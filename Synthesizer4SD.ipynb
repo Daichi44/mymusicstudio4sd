{
 "cells": [
  {
   "cell_type": "code",
   "execution_count": null,
   "metadata": {},
   "outputs": [],
   "source": [
    "# まず、シンセを作る部分"
   ]
  },
  {
   "cell_type": "code",
   "execution_count": null,
   "metadata": {},
   "outputs": [],
   "source": [
    "from pyo import *\n",
    "\n",
    "s = Server().boot(); s.start()  #  音声処理を実行する「サーバ」を作成・開始\n",
    "\n",
    "# MIDI信号(チャンネル番号0）から音程・音量入力をする\n",
    "notes = Notein( poly=10, scale=0, first=0, last=127, channel=0, mul=1 )\n",
    "freqs = MToF( notes[\"pitch\"] )\n",
    "amps = Port( notes[\"velocity\"], risetime=0.005, falltime=0.5, mul=0.05 )\n",
    "# （MIDI機器が接続されていないので）画面上で操作できる「キーボード」を生成する\n",
    "notes.keyboard()  \n",
    "\n",
    "# 出力波形（のこぎり波形）を作り、左右チャンネルに出力する\n",
    "osc = SuperSaw( freq=freqs, mul=amps)# 所定周波数・強度で鋸波生成\n",
    "out = osc.mix(1).mix(2).out() # 出力を１系統にまとめた上で、左右に複製\n",
    "\n",
    "# サーバの開始・停止などを、簡単にGUI操作できるようにしておく\n",
    "s.gui( locals() )"
   ]
  },
  {
   "cell_type": "code",
   "execution_count": null,
   "metadata": {},
   "outputs": [],
   "source": [
    "# MIDI機器（MIDI鍵盤）を接続する"
   ]
  },
  {
   "cell_type": "code",
   "execution_count": null,
   "metadata": {},
   "outputs": [],
   "source": [
    "from pyo import *\n",
    "\n",
    "pm_list_devices() # 接続されているMIDI機器状態を確認"
   ]
  },
  {
   "cell_type": "code",
   "execution_count": null,
   "metadata": {},
   "outputs": [],
   "source": [
    "# 上記コードを実行すると、たとえば、下記のような表示がされる"
   ]
  },
  {
   "cell_type": "code",
   "execution_count": null,
   "metadata": {},
   "outputs": [],
   "source": [
    "MIDI devices:\n",
    "0: IN, name: iPhone, interface: CoreMIDI\n",
    "1: OUT, name: iPhone, interface: CoreMIDI"
   ]
  },
  {
   "cell_type": "code",
   "execution_count": null,
   "metadata": {},
   "outputs": [],
   "source": [
    "from pyo import *\n",
    "\n",
    "s = Server().boot(); s.start()  #  音声処理を実行する「サーバ」を作成・開始\n",
    "\n",
    "# MIDI信号(チャンネル番号0）から音程・音量入力をする\n",
    "notes = Notein( poly=10, scale=0, first=0, last=127, channel=0, mul=1 )\n",
    "freqs = MToF( notes[\"pitch\"] )\n",
    "KB = True\n",
    "if KB: # MIDI鍵盤が接続されている場合\n",
    "    amps = MidiAdsr(notes['velocity'])\n",
    "else: #MIDI機器が接続されていない場合\n",
    "    amps = Port(notes[\"velocity\"],risetime=0.005,falltime=0.5,mul=0.05)\n",
    "    notes.keyboard() # 画面上で操作できるキーボードを生成する\n",
    "\n",
    "# 出力波形（のこぎり波形）を作り、左右チャンネルに出力する\n",
    "osc = SuperSaw( freq=freqs, mul=amps)# 所定周波数・強度で鋸波生成\n",
    "out = osc.mix(1).mix(2).out() # 出力を１系統にまとめた上で、左右に複製\n",
    "\n",
    "# サーバの開始・停止などを、簡単にGUI操作できるようにしておく\n",
    "s.gui( locals() )"
   ]
  },
  {
   "cell_type": "code",
   "execution_count": null,
   "metadata": {},
   "outputs": [],
   "source": [
    "# エフェクター（音声加工処理）をつける"
   ]
  },
  {
   "cell_type": "code",
   "execution_count": null,
   "metadata": {},
   "outputs": [],
   "source": [
    "from pyo import *\n",
    "\n",
    "s = Server().boot(); s.start()  #  音声処理を実行する「サーバ」を作成・開始\n",
    "\n",
    "# MIDI信号(チャンネル番号0）から音程・音量入力をする\n",
    "notes = Notein( poly=10, scale=0, first=0, last=127, channel=0, mul=1 )\n",
    "freqs = MToF( notes[\"pitch\"] )\n",
    "KB = True\n",
    "if KB: # MIDI鍵盤が接続されている場合\n",
    "    amps = MidiAdsr(notes['velocity'])\n",
    "else: #（MIDI機器が接続されていない場合）画面上で操作できる「キーボード」を作る\n",
    "    amps = Port( notes[\"velocity\"], risetime=0.005, falltime=0.5, mul=0.05 )\n",
    "    notes.keyboard() # 画面上で操作できるキーボードを生成する\n",
    "\n",
    "# 出力波形（のこぎり波形）を作り、左右チャンネルに出力する\n",
    "osc = SuperSaw( freq=freqs, mul=amps)# 所定周波数・強度で鋸波生成\n",
    "out = osc.mix(1).mix(2).out() # 出力を１系統にまとめた上で、左右に複製\n",
    "\n",
    "# コーラス処理・ディレイ処理・リバーブ処理を順次掛ける\n",
    "chorus = Chorus(out,depth=[1.5,1.6]).out(); chorus.ctrl()\n",
    "delay = Delay(chorus,delay=[.15,.16]).out(); delay.ctrl()\n",
    "reverb=WGVerb(delay, feedback=[.7,.7]).out(); reverb.ctrl()\n",
    "\n",
    "scope = Scope(reverb)            # 出力波形を表示\n",
    "spectrum = Spectrum(reverb) # 周波数分布を表示\n",
    "\n",
    "# サーバの開始・停止などを、簡単にGUI操作できるようにしておく\n",
    "s.gui( locals() )\n"
   ]
  },
  {
   "cell_type": "code",
   "execution_count": null,
   "metadata": {},
   "outputs": [],
   "source": [
    "# 音声入力もしてみる"
   ]
  },
  {
   "cell_type": "code",
   "execution_count": null,
   "metadata": {},
   "outputs": [],
   "source": [
    "from pyo import *\n",
    "\n",
    "s = Server().boot(); s.start()  #  音声処理を実行する「サーバ」を作成・開始\n",
    "\n",
    "# MIDI信号(チャンネル番号0）から音程・音量入力をする\n",
    "notes = Notein( poly=10, scale=0, first=0, last=127, channel=0, mul=1 )\n",
    "freqs = MToF( notes[\"pitch\"] )\n",
    "KB = True\n",
    "if KB: # MIDI鍵盤が接続されている場合\n",
    "    amps = MidiAdsr(notes['velocity'])\n",
    "else: #（MIDI機器が接続されていない場合）画面上で操作できる「キーボード」を作る\n",
    "    amps = Port( notes[\"velocity\"], risetime=0.005, falltime=0.5, mul=0.05 )\n",
    "    notes.keyboard() # 画面上で操作できるキーボードを生成する\n",
    "\n",
    "# 出力波形（のこぎり波形）を作り、左右チャンネルに出力する\n",
    "osc = SuperSaw( freq=freqs, mul=amps)# 所定周波数・強度で鋸波生成\n",
    "mic = Input().play(); mic.ctrl()#マイクからの音声を入力、シンセ音と合成（下行）\n",
    "out = (osc+mic).mix(1).mix(2).out()# 出力を１系統にまとめた上で、左右に複製\n",
    "\n",
    "# コーラス処理・ディレイ処理・リバーブ処理を順次掛ける\n",
    "chorus = Chorus(out,depth=[1.5,1.6]).out(); chorus.ctrl()\n",
    "delay = Delay(chorus,delay=[.15,.16]).out(); delay.ctrl()\n",
    "reverb=WGVerb(delay, feedback=[.7,.7]).out(); reverb.ctrl()\n",
    "\n",
    "scope = Scope(reverb)            # 出力波形を表示\n",
    "spectrum = Spectrum(reverb) # 周波数分布を表示\n",
    "\n",
    "# サーバの開始・停止などを、簡単にGUI操作できるようにしておく\n",
    "s.gui( locals() )\n",
    "\n"
   ]
  },
  {
   "cell_type": "code",
   "execution_count": null,
   "metadata": {},
   "outputs": [],
   "source": [
    "# エレキギター用に変更する"
   ]
  },
  {
   "cell_type": "code",
   "execution_count": null,
   "metadata": {},
   "outputs": [],
   "source": [
    "from pyo import *\n",
    "\n",
    "s = Server().boot(); s.start()  #  音声処理を実行する「サーバ」を作成・開始\n",
    "\n",
    "# MIDI信号(チャンネル番号0）から音程・音量入力をする\n",
    "notes = Notein( poly=10, scale=0, first=0, last=127, channel=0, mul=1 )\n",
    "freqs = MToF( notes[\"pitch\"] )\n",
    "KB = True\n",
    "if KB: # MIDI鍵盤が接続されている場合\n",
    "    amps = MidiAdsr(notes['velocity'])\n",
    "else: #（MIDI機器が接続されていない場合）画面上で操作できる「キーボード」を作る\n",
    "    amps = Port( notes[\"velocity\"], risetime=0.005, falltime=0.5, mul=0.05 )\n",
    "    notes.keyboard() # 画面上で操作できるキーボードを生成する\n",
    "\n",
    "# 出力波形（のこぎり波形）を作り、左右チャンネルに出力する\n",
    "osc = SuperSaw( freq=freqs, mul=amps); osc.ctrl() # 所定周波数・強度で鋸波生成\n",
    "mic = Input().play(); mic.ctrl()#マイクからの音声を入力、シンセ音と合成（下行）\n",
    "guitar = Disto( mic ).out()      # （ロックギターのように）マイクか音信号を歪ませる\n",
    "out = (osc+guitar).mix(1).mix(2).out()# 出力を１系統にまとめた上で、左右に複製\n",
    "\n",
    "# コーラス処理・ディレイ処理・リバーブ処理を順次掛ける\n",
    "chorus = Chorus(out,depth=[1.5,1.6]).out(); chorus.ctrl()\n",
    "delay = Delay(chorus,delay=[.15,.16]).out(); delay.ctrl()\n",
    "reverb=WGVerb(delay, feedback=[.7,.7]).out(); reverb.ctrl()\n",
    "\n",
    "scope = Scope(reverb)            # 出力波形を表示\n",
    "spectrum = Spectrum(reverb) # 周波数分布を表示\n",
    "\n",
    "# サーバの開始・停止などを、簡単にGUI操作できるようにしておく\n",
    "s.gui( locals() )\n"
   ]
  },
  {
   "cell_type": "code",
   "execution_count": null,
   "metadata": {},
   "outputs": [],
   "source": [
    "# 鼻歌からでも、演奏ができるようにする（音声入力前のコードを変更する）"
   ]
  },
  {
   "cell_type": "code",
   "execution_count": null,
   "metadata": {},
   "outputs": [],
   "source": [
    "from pyo import *\n",
    "\n",
    "s = Server().boot(); s.start()  #  音声処理を実行する「サーバ」を作成・開始\n",
    "\n",
    "# PCのマイク入力音声に対し「周波数・音量」を算出\n",
    "mic = Input().play(); mic.ctrl()\n",
    "freq = Tone( Yin(mic, tolerance=0.2, winsize=1024) ); freq.ctrl()\n",
    "amp = PeakAmp(mic)\n",
    "\n",
    "# 出力波形（のこぎり波形）を作り、左右チャンネルに出力する\n",
    "osc = SuperSaw( freq=freq, mul=amp ); osc.ctrl() # 所定周波数・強度で鋸波生成\n",
    "out = osc.mix(1).mix(2).out() # 出力を１系統にまとめた上で、左右に複製\n",
    "\n",
    "# コーラス処理・ディレイ処理・リバーブ処理を順次掛ける\n",
    "chorus = Chorus(out,depth=[1.5,1.6]).out(); chorus.ctrl()\n",
    "delay = Delay(chorus,delay=[.15,.16]).out(); delay.ctrl()\n",
    "reverb=WGVerb(delay, feedback=[.7,.7]).out(); reverb.ctrl()\n",
    "\n",
    "scope = Scope(reverb)            # 出力波形を表示\n",
    "spectrum = Spectrum(reverb) # 周波数分布を表示\n",
    "\n",
    "# サーバの開始・停止などを、簡単にGUI操作できるようにしておく\n",
    "s.gui( locals() )"
   ]
  },
  {
   "cell_type": "code",
   "execution_count": null,
   "metadata": {},
   "outputs": [],
   "source": [
    "from pyo import *\n",
    "\n",
    "s = Server().boot(); s.start()  #  音声処理を実行する「サーバ」を作成・開始\n",
    "\n",
    "# MIDI信号(チャンネル番号0）から音程・音量入力をする\n",
    "notes = Notein( poly=10, scale=0, first=0, last=127, channel=0, mul=1 )\n",
    "freqs = MToF( notes[\"pitch\"] )\n",
    "KB = True\n",
    "if KB: # MIDI鍵盤が接続されている場合\n",
    "    amps = MidiAdsr(notes['velocity'])\n",
    "else: #（MIDI機器が接続されていない場合）画面上で操作できる「キーボード」を作る\n",
    "    amps = Port( notes[\"velocity\"], risetime=0.005, falltime=0.5, mul=0.05 )\n",
    "    notes.keyboard() # 画面上で操作できるキーボードを生成する\n",
    "\n",
    "# PCのマイク入力音声に対し「周波数・音量」を算出\n",
    "mic = Input().play(); mic.ctrl()\n",
    "freq = Tone( Yin(mic, tolerance=0.2, winsize=1024) ); freq.ctrl()\n",
    "amp = PeakAmp(mic)\n",
    "\n",
    "# 出力波形（のこぎり波形）を作り、左右チャンネルに出力する\n",
    "osc = SuperSaw( freq=freq, mul=amp ); osc.ctrl() # 所定周波数・強度で鋸波生成\n",
    "out = osc.mix(1).mix(2).out() # 出力を１系統にまとめた上で、左右に複製\n",
    "\n",
    "# コーラス処理・ディレイ処理・リバーブ処理を順次掛ける\n",
    "chorus = Chorus(out,depth=[1.5,1.6]).out(); chorus.ctrl()\n",
    "delay = Delay(chorus,delay=[.15,.16]).out(); delay.ctrl()\n",
    "reverb=WGVerb(delay, feedback=[.7,.7]).out(); reverb.ctrl()\n",
    "\n",
    "scope = Scope(reverb)            # 出力波形を表示\n",
    "spectrum = Spectrum(reverb) # 周波数分布を表示\n",
    "\n",
    "# サーバの開始・停止などを、簡単にGUI操作できるようにしておく\n",
    "s.gui( locals() )"
   ]
  }
 ],
 "metadata": {
  "kernelspec": {
   "display_name": "Python 3",
   "language": "python",
   "name": "python3"
  },
  "language_info": {
   "codemirror_mode": {
    "name": "ipython",
    "version": 3
   },
   "file_extension": ".py",
   "mimetype": "text/x-python",
   "name": "python",
   "nbconvert_exporter": "python",
   "pygments_lexer": "ipython3",
   "version": "3.5.5"
  }
 },
 "nbformat": 4,
 "nbformat_minor": 2
}
